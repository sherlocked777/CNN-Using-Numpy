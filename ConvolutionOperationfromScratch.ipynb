{
 "cells": [
  {
   "cell_type": "code",
   "execution_count": 1,
   "metadata": {},
   "outputs": [],
   "source": [
    "import cv2\n",
    "import numpy as np\n",
    "class Convoultion():\n",
    "    def __init__(self):\n",
    "        self.dim = (300, 300)\n",
    "        self.ht, self.wd = self.dim\n",
    "        self.FilterArray = np.zeros((2,3,3))\n",
    "        self.FilterArray[0, :, :] = np.array([[[-1, 0, 1], [-1, 0, 1], [-1, 0, 1]]])\n",
    "        self.FilterArray[1, :, :] = np.array([[[1,   1,  1], [0,   0,  0], [-1, -1, -1]]])\n",
    "        self.stride = 1\n",
    "        self.FilterSize = self.FilterArray.shape[1]\n",
    "        self.Filterdim = self.FilterArray.shape[0]\n",
    "        print('self.FilterSize: ', self.FilterSize)\n",
    "        self.output_size_r = 298#int(self.ht-self.FilterSize/self.stride+1)\n",
    "        self.output_size_w = 298#int(self.wd-self.FilterSize/self.stride+1)\n",
    "        print('self.output_size_r', self.output_size_r)\n",
    "        print('self.output_size_w', self.output_size_w)\n",
    "        self.filter_ht = np.uint16(np.ceil(self.FilterSize/self.stride))\n",
    "        print('self.filter_ht: ', self.filter_ht)\n",
    "        self.filter_wd = np.uint16(np.ceil(self.FilterSize/self.stride))\n",
    "        self.feature_maps = np.zeros((self.output_size_r, self.output_size_w, self.FilterSize))\n",
    "        \n",
    "    def PreProcessImage(self, path):\n",
    "        rgb_image = cv2.imread(path)\n",
    "        gray_scale_image = cv2.cvtColor(rgb_image, cv2.COLOR_BGR2GRAY)\n",
    "        image_resized = cv2.resize(gray_scale_image, (self.dim))\n",
    "        return image_resized\n",
    "    def apply_conv(self, image_section, conv):\n",
    "        '''Returns output of applying conv to image_section. Both inputs are numpy arrays.\n",
    "        image_section is assumed to be same size/shape as conv.\n",
    "        '''\n",
    "        out = (conv * image_section).sum()\n",
    "        return out\n",
    "    \n",
    "    def conv(self, resized_image, filter_):\n",
    "        filtered_img = np.zeros((self.output_size_r, self.output_size_w))\n",
    "        for i in np.uint16(np.arange(self.output_size_r)):\n",
    "            for j in np.uint16(np.arange(self.output_size_w)):\n",
    "                roi_conv = resized_image[i:i+self.filter_ht, j:j+self.filter_wd]\n",
    "                filtered_img[i, j] = self.apply_conv(roi_conv, filter_)\n",
    "        return filtered_img\n",
    "\n",
    "    def apply_convolution(self, path):\n",
    "        resized_image = self.PreProcessImage(path)\n",
    "        for num in range(self.Filterdim):\n",
    "            current_filter = self.FilterArray[num, :]\n",
    "            feature_map = self.conv(resized_image, current_filter)\n",
    "            cv2.imwrite(str(num) + '.png', feature_map)\n",
    "            self.feature_maps[:, :, num] = feature_map\n",
    "        return self.feature_maps"
   ]
  },
  {
   "cell_type": "code",
   "execution_count": 2,
   "metadata": {},
   "outputs": [
    {
     "name": "stdout",
     "output_type": "stream",
     "text": [
      "self.FilterSize:  3\n",
      "self.output_size_r 298\n",
      "self.output_size_w 298\n",
      "self.filter_ht:  3\n"
     ]
    }
   ],
   "source": [
    "obj = Convoultion()\n",
    "feature_maps = obj.apply_convolution('/Users/vishnudev/myfiles/code_archive/data/cat.png')"
   ]
  },
  {
   "cell_type": "code",
   "execution_count": null,
   "metadata": {},
   "outputs": [],
   "source": []
  }
 ],
 "metadata": {
  "kernelspec": {
   "display_name": "Python 3",
   "language": "python",
   "name": "python3"
  },
  "language_info": {
   "codemirror_mode": {
    "name": "ipython",
    "version": 3
   },
   "file_extension": ".py",
   "mimetype": "text/x-python",
   "name": "python",
   "nbconvert_exporter": "python",
   "pygments_lexer": "ipython3",
   "version": "3.7.4"
  }
 },
 "nbformat": 4,
 "nbformat_minor": 2
}
